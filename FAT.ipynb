{
 "cells": [
  {
   "cell_type": "markdown",
   "metadata": {},
   "source": [
    "# FAT - Projet Vélib <a name=\"top\"></a>\n",
    "\n",
    "\n",
    "# Table of contents\n",
    "1. [Simulation](#introduction)\n",
    "    1. [Questions 5 & 6](#question5)\n",
    "    2. [Question 7](#question7)\n",
    "2. [Calcul théorique](#theorie)"
   ]
  },
  {
   "cell_type": "markdown",
   "metadata": {},
   "source": [
    "### 1. Simulation <a name=\"introduction\"></a> [$\\uparrow$](#top)\n",
    "\n",
    "Dans l'ensemble de cette section les matrices M de taille $NxN$ sont définies comme suit :\n",
    "* sur la diagonale, les valeurs associées aux stations ($M[i][i]$ correspond à la station $i$)\n",
    "* ailleurs, les valeurs associées aux transitions ($M[i][j]$ correspond à la transition $t_{ij}$, de $i$ vers $j$)"
   ]
  },
  {
   "cell_type": "code",
   "execution_count": 1,
   "metadata": {},
   "outputs": [],
   "source": [
    "import random\n",
    "import copy\n",
    "import math"
   ]
  },
  {
   "cell_type": "code",
   "execution_count": 2,
   "metadata": {},
   "outputs": [],
   "source": [
    "# Paramètres\n",
    "\n",
    "N = 5\n",
    "\n",
    "horizon = 150 * 60 * 60\n",
    "\n",
    "tau = [[0,3,5,7,7],\n",
    "      [2,0,2,5,5],\n",
    "      [4,2,0,3,3],\n",
    "      [8,6,4,0,2],\n",
    "      [7,7,5,2,0]]\n",
    "\n",
    "lambd_i = [2.8,3.7,5.5,3.5,4.6]\n",
    "\n",
    "lambd = []\n",
    "for i in range(N):\n",
    "    lambd.append([])\n",
    "    for j in range(N):\n",
    "        if i==j:\n",
    "            lambd[i].append(lambd_i[i] / 3600)\n",
    "        else:\n",
    "            lambd[i].append(1/(60*tau[i][j]))\n",
    "\n",
    "p = [[0,0.22,0.32,0.2,0.26],\n",
    "      [0.17,0,0.34,0.21,0.28],\n",
    "      [0.19,0.26,0,0.24,0.31],\n",
    "      [0.17,0.22,0.33,0,0.28],\n",
    "      [0.18,0.24,0.35,0.23,0]]\n"
   ]
  },
  {
   "cell_type": "code",
   "execution_count": 3,
   "metadata": {},
   "outputs": [],
   "source": [
    "# Lance une simulation avec les conditions initiales définies dans la fonction init() sur une période de temps \"horizon\"\n",
    "def simulation(n_init):\n",
    "    n = copy.deepcopy(n_init)\n",
    "    temps = 0\n",
    "    temps_vide = [0 for _ in range(N)]\n",
    "    temps_vide2 = [[0 for _ in range(N)] for _ in range(N)]\n",
    "    while temps < horizon:\n",
    "        sum_q = 0\n",
    "        for i in range(N):\n",
    "            for j in range(N):\n",
    "                if i == j:\n",
    "                    if n[i][i] > 0:\n",
    "                        sum_q += lambd[i][i]\n",
    "                else:\n",
    "                    sum_q += lambd[i][j] * n[i][j]\n",
    "        tirage = random.expovariate(sum_q)\n",
    "        temps += tirage\n",
    "        # Calcul des temps vides\n",
    "#        for i in range(N):\n",
    "#            if(n[i][i] == 0):\n",
    "#                temps_vide[i] += tirage\n",
    "        for i in range(N):\n",
    "            for j in range(N):\n",
    "                if(n[i][j] == 0):\n",
    "                    temps_vide2[i][j] += tirage\n",
    "\n",
    "        #\n",
    "        \n",
    "        \n",
    "        rand = random.random() * sum_q\n",
    "        s = 0\n",
    "        i = 0\n",
    "        j = 0\n",
    "        while 1 :\n",
    "            if i == j:\n",
    "                if n[i][i] > 0:\n",
    "                    s += lambd[i][i]\n",
    "            else:\n",
    "                s += lambd[i][j] * n[i][j]\n",
    "            if s >= rand :\n",
    "                break\n",
    "            if i == N-1:\n",
    "                i = 0\n",
    "                j += 1\n",
    "            else:\n",
    "                i += 1\n",
    "\n",
    "        if i == j: # Départ de i\n",
    "            s -= lambd[i][i]\n",
    "            # On détermine la station destination\n",
    "            j = 0\n",
    "            while 1 :\n",
    "                s += lambd[i][i] * p[i][j]\n",
    "                if s >= rand:\n",
    "                    break\n",
    "                j += 1\n",
    "            # On part de i vers j\n",
    "            n[i][i] -= 1\n",
    "            n[i][j] += 1\n",
    "        else: # Arrivée en j à partir de i\n",
    "            n[j][j] += 1\n",
    "            n[i][j] -= 1\n",
    "    return temps_vide2, n"
   ]
  },
  {
   "cell_type": "code",
   "execution_count": 4,
   "metadata": {},
   "outputs": [],
   "source": [
    "# Lance K simulation avec les conditions initiales n_init\n",
    "# Retourne :\n",
    "# - empty_time (matrice (NxN)): le pourcentage moyen de temps où la colonie est vide durant une simulation\n",
    "# - empty_end (matrice (NxN)) : le pourcentage de simulations à la fin desquelles la colonie est vide\n",
    "# - epsilon (tableau (N)) : écart pour l'intervalle de confiance de la probabilité que la station soit vide \n",
    "def start_simulation(K, n_init):\n",
    "    empty_time = [[0 for _ in range(N)] for _ in range(N)]\n",
    "    empty_end = [[0 for _ in range(N)] for _ in range(N)]\n",
    "    # Lancement des K simulations\n",
    "    for _ in range(K):\n",
    "        res, n_end = simulation(n_init)\n",
    "        # Ajout des résultats partiels\n",
    "        empty_time = [[empty_time[i][j] + res[i][j] for j in range(N)] for i in range(N)]\n",
    "        empty_end = [[empty_end[i][j] + (1 if n_end[i][j] == 0 else 0) for j in range(N)] for i in range(N)] \n",
    "    # Calcul des moyennes\n",
    "    empty_time = [[empty_time[i][j]/(K*horizon) for j in range(N)] for i in range(N)]\n",
    "    empty_end = [[empty_end[i][j]/K for j in range(N)] for i in range(N)]\n",
    "    \n",
    "    # Calcul des variances pour chaque station\n",
    "    var = [(empty_end[i][i] - empty_end[i][i]**2)*K/(K-1) for i in range(N)]\n",
    "    # Calcul des epsilon\n",
    "    epsilon = [1.96 * math.sqrt(var[i]) / math.sqrt(K) for i in range(N)]\n",
    "    \n",
    "    return empty_time, empty_end, epsilon"
   ]
  },
  {
   "cell_type": "code",
   "execution_count": 5,
   "metadata": {},
   "outputs": [],
   "source": [
    "# Conditions initiales\n",
    "n_init = [[20,1,0,0,0],\n",
    "          [1,15,1,0,0],\n",
    "          [0,1,17,1,0],\n",
    "          [0,0,1,13,1],\n",
    "          [0,0,0,1,18]]\n",
    "\n",
    "K = 1000\n",
    "\n",
    "empty_time, empty_end, epsilon = start_simulation(K,n_init)"
   ]
  },
  {
   "cell_type": "markdown",
   "metadata": {},
   "source": [
    "#### A. Questions 5 & 6 <a name=\"question5\"></a> [$\\uparrow$](#top)"
   ]
  },
  {
   "cell_type": "code",
   "execution_count": 6,
   "metadata": {},
   "outputs": [
    {
     "name": "stdout",
     "output_type": "stream",
     "text": [
      "La station 0 est vide à 1.0 %.    Intervalle de confiance :  0.383 ; 1.617\n",
      "La station 1 est vide à 4.2 %.    Intervalle de confiance :  2.956 ; 5.444\n",
      "La station 2 est vide à 15.9 %.    Intervalle de confiance :  13.632 ; 18.168\n",
      "La station 3 est vide à 3.5 %.    Intervalle de confiance :  2.36 ; 4.64\n",
      "La station 4 est vide à 12.8 %.    Intervalle de confiance :  10.728 ; 14.872\n"
     ]
    }
   ],
   "source": [
    "for i in range(N):\n",
    "    print(\"La station\", i, \"est vide à\", str(round(empty_end[i][i]*100,2)), \"%.\\\n",
    "    Intervalle de confiance : \", round(100*(empty_end[i][i] - epsilon[i]),3), \";\", round(100*(empty_end[i][i] + epsilon[i]),3))\n"
   ]
  },
  {
   "cell_type": "markdown",
   "metadata": {},
   "source": [
    "#### B. Question 7 <a name=\"question7\"></a> [$\\uparrow$](#top)"
   ]
  },
  {
   "cell_type": "code",
   "execution_count": 7,
   "metadata": {},
   "outputs": [
    {
     "name": "stdout",
     "output_type": "stream",
     "text": [
      "La station 0 est vide à 0.1 %.    Intervalle de confiance :  -0.096 ; 0.296\n",
      "La station 1 est vide à 7.4 %.    Intervalle de confiance :  5.777 ; 9.023\n",
      "La station 2 est vide à 19.3 %.    Intervalle de confiance :  16.853 ; 21.747\n",
      "La station 3 est vide à 6.5 %.    Intervalle de confiance :  4.971 ; 8.029\n",
      "La station 4 est vide à 12.9 %.    Intervalle de confiance :  10.821 ; 14.979\n"
     ]
    }
   ],
   "source": [
    "n_init = [[91,0,0,0,0],\n",
    "          [0,0,0,0,0],\n",
    "          [0,0,0,0,0],\n",
    "          [0,0,0,0,0],\n",
    "          [0,0,0,0,0]]\n",
    "\n",
    "empty_time, empty_end, epsilon = start_simulation(K,n_init)\n",
    "\n",
    "for i in range(N):\n",
    "    print(\"La station\", i, \"est vide à\", str(round(empty_end[i][i]*100,2)), \"%.\\\n",
    "    Intervalle de confiance : \", round(100*(empty_end[i][i] - epsilon[i]),3), \";\", round(100*(empty_end[i][i] + epsilon[i]),3))"
   ]
  },
  {
   "cell_type": "code",
   "execution_count": 8,
   "metadata": {},
   "outputs": [
    {
     "name": "stdout",
     "output_type": "stream",
     "text": [
      "La station 0 est vide à 1.5 %.    Intervalle de confiance :  0.746 ; 2.254\n",
      "La station 1 est vide à 3.7 %.    Intervalle de confiance :  2.529 ; 4.871\n",
      "La station 2 est vide à 16.4 %.    Intervalle de confiance :  14.104 ; 18.696\n",
      "La station 3 est vide à 1.1 %.    Intervalle de confiance :  0.453 ; 1.747\n",
      "La station 4 est vide à 9.6 %.    Intervalle de confiance :  7.773 ; 11.427\n"
     ]
    }
   ],
   "source": [
    "n_init = [[0,0,0,45,0],\n",
    "          [0,0,0,0,0],\n",
    "          [0,1,0,0,0],\n",
    "          [0,0,45,0,0],\n",
    "          [0,0,0,0,0]]\n",
    "\n",
    "empty_time, empty_end, epsilon = start_simulation(K,n_init)\n",
    "\n",
    "for i in range(N):\n",
    "    print(\"La station\", i, \"est vide à\", str(round(empty_end[i][i]*100,2)), \"%.\\\n",
    "    Intervalle de confiance : \", round(100*(empty_end[i][i] - epsilon[i]),3), \";\", round(100*(empty_end[i][i] + epsilon[i]),3))"
   ]
  },
  {
   "cell_type": "markdown",
   "metadata": {},
   "source": [
    "### Calcul théorique <a name=\"theorie\"></a> [$\\uparrow$](#top)"
   ]
  },
  {
   "cell_type": "code",
   "execution_count": null,
   "metadata": {},
   "outputs": [],
   "source": []
  }
 ],
 "metadata": {
  "kernelspec": {
   "display_name": "Python 3",
   "language": "python",
   "name": "python3"
  },
  "language_info": {
   "codemirror_mode": {
    "name": "ipython",
    "version": 3
   },
   "file_extension": ".py",
   "mimetype": "text/x-python",
   "name": "python",
   "nbconvert_exporter": "python",
   "pygments_lexer": "ipython3",
   "version": "3.7.0"
  }
 },
 "nbformat": 4,
 "nbformat_minor": 2
}
