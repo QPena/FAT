{
 "cells": [
  {
   "cell_type": "markdown",
   "metadata": {},
   "source": [
    "# FAT - Projet Vélib <a name=\"top\"></a>\n",
    "\n",
    "\n",
    "# Sommaire\n",
    "1. [Simulation](#introduction)\n",
    "    - [Questions 5 & 6](#question5)\n",
    "    - [Question 7](#question7)\n",
    "    - [Question 8](#question8)\n",
    "    - [Question 9](#question9)\n",
    "    - [Question 10](#question10)\n",
    "    \n",
    "    \n",
    "2. [Calcul théorique](#theorie)\n",
    "    - [Question 11](#question11)\n",
    "    - [Question 12](#question12)\n",
    "    - [Question 13](#question13)\n",
    "    - [Question 14](#question14)"
   ]
  },
  {
   "cell_type": "markdown",
   "metadata": {},
   "source": [
    "### 1. Simulation <a name=\"introduction\"></a> [$\\uparrow$](#top)\n",
    "\n",
    "Dans l'ensemble de cette section les matrices M de taille $NxN$ sont définies comme suit :\n",
    "* sur la diagonale, les valeurs associées aux stations ($M[i][i]$ correspond à la station $i$)\n",
    "* ailleurs, les valeurs associées aux transitions ($M[i][j]$ correspond à la transition $t_{ij}$, de $i$ vers $j$)"
   ]
  },
  {
   "cell_type": "code",
   "execution_count": 1,
   "metadata": {},
   "outputs": [],
   "source": [
    "import random\n",
    "import copy\n",
    "import math\n",
    "import numpy as np"
   ]
  },
  {
   "cell_type": "code",
   "execution_count": 2,
   "metadata": {},
   "outputs": [],
   "source": [
    "# Paramètres\n",
    "\n",
    "N = 5\n",
    "\n",
    "horizon = 150 * 60 * 60\n",
    "\n",
    "tau = [[0,3,5,7,7],\n",
    "      [2,0,2,5,5],\n",
    "      [4,2,0,3,3],\n",
    "      [8,6,4,0,2],\n",
    "      [7,7,5,2,0]]\n",
    "\n",
    "lambd_i = [2.8,3.7,5.5,3.5,4.6]\n",
    "\n",
    "lambd = []\n",
    "for i in range(N):\n",
    "    lambd.append([])\n",
    "    for j in range(N):\n",
    "        if i==j:\n",
    "            lambd[i].append(lambd_i[i] / 3600)\n",
    "        else:\n",
    "            lambd[i].append(1/(60*tau[i][j]))\n",
    "\n",
    "p = [[0,0.22,0.32,0.2,0.26],\n",
    "      [0.17,0,0.34,0.21,0.28],\n",
    "      [0.19,0.26,0,0.24,0.31],\n",
    "      [0.17,0.22,0.33,0,0.28],\n",
    "      [0.18,0.24,0.35,0.23,0]]\n"
   ]
  },
  {
   "cell_type": "code",
   "execution_count": 3,
   "metadata": {},
   "outputs": [],
   "source": [
    "# Lance une simulation avec les conditions initiales définies dans la fonction init() sur une période de temps \"horizon\"\n",
    "def simulation(n_init):\n",
    "    n = copy.deepcopy(n_init)\n",
    "    temps = 0\n",
    "    empty_times = [[0 for _ in range(N)] for _ in range(N)]\n",
    "    while temps < horizon:\n",
    "        sum_q = 0\n",
    "        for i in range(N):\n",
    "            for j in range(N):\n",
    "                if i == j:\n",
    "                    if n[i][i] > 0:\n",
    "                        sum_q += lambd[i][i]\n",
    "                else:\n",
    "                    sum_q += lambd[i][j] * n[i][j]\n",
    "        tirage = random.expovariate(sum_q)\n",
    "        temps += tirage\n",
    "        # Calcul des temps vides\n",
    "        for i in range(N):\n",
    "            for j in range(N):\n",
    "                if(n[i][j] == 0):\n",
    "                    empty_times[i][j] += tirage\n",
    "\n",
    "        #\n",
    "        \n",
    "        \n",
    "        rand = random.random() * sum_q\n",
    "        s = 0\n",
    "        i = 0\n",
    "        j = 0\n",
    "        while 1 :\n",
    "            if i == j:\n",
    "                if n[i][i] > 0:\n",
    "                    s += lambd[i][i]\n",
    "            else:\n",
    "                s += lambd[i][j] * n[i][j]\n",
    "            if s >= rand :\n",
    "                break\n",
    "            if i == N-1:\n",
    "                i = 0\n",
    "                j += 1\n",
    "            else:\n",
    "                i += 1\n",
    "\n",
    "        if i == j: # Départ de i\n",
    "            s -= lambd[i][i]\n",
    "            # On détermine la station destination\n",
    "            j = 0\n",
    "            while 1 :\n",
    "                s += lambd[i][i] * p[i][j]\n",
    "                if s >= rand:\n",
    "                    break\n",
    "                j += 1\n",
    "            # On part de i vers j\n",
    "            n[i][i] -= 1\n",
    "            n[i][j] += 1\n",
    "        else: # Arrivée en j à partir de i\n",
    "            n[j][j] += 1\n",
    "            n[i][j] -= 1\n",
    "    return empty_times, n"
   ]
  },
  {
   "cell_type": "code",
   "execution_count": 4,
   "metadata": {},
   "outputs": [],
   "source": [
    "# Lance K simulation avec les conditions initiales n_init\n",
    "# Retourne :\n",
    "# - empty_time (matrice (NxN)): le pourcentage moyen de temps où la colonie est vide durant une simulation\n",
    "# - empty_end (matrice (NxN)) : le pourcentage de simulations à la fin desquelles la colonie est vide\n",
    "# - epsilon (tableau (N)) : écart pour l'intervalle de confiance de la probabilité que la station soit vide \n",
    "def start_simulation(K, n_init):\n",
    "    empty_time = [[0 for _ in range(N)] for _ in range(N)]\n",
    "    empty_end = [[0 for _ in range(N)] for _ in range(N)]\n",
    "    # Lancement des K simulations\n",
    "    for _ in range(K):\n",
    "        res, n_end = simulation(n_init)\n",
    "        # Ajout des résultats partiels\n",
    "        empty_time = [[empty_time[i][j] + res[i][j] for j in range(N)] for i in range(N)]\n",
    "        empty_end = [[empty_end[i][j] + (1 if n_end[i][j] == 0 else 0) for j in range(N)] for i in range(N)] \n",
    "    # Calcul des moyennes\n",
    "    empty_time = [[empty_time[i][j]/(K*horizon) for j in range(N)] for i in range(N)]\n",
    "    empty_end = [[empty_end[i][j]/K for j in range(N)] for i in range(N)]\n",
    "    \n",
    "    # Calcul des variances pour chaque station\n",
    "    var = [(empty_end[i][i] - empty_end[i][i]**2)*K/(K-1) for i in range(N)]\n",
    "    # Calcul des epsilon\n",
    "    epsilon = [1.96 * math.sqrt(var[i]) / math.sqrt(K) for i in range(N)]\n",
    "    \n",
    "    return empty_time, empty_end, epsilon"
   ]
  },
  {
   "cell_type": "code",
   "execution_count": 17,
   "metadata": {},
   "outputs": [],
   "source": [
    "# Conditions initiales\n",
    "n_init = [[20,1,0,0,0],\n",
    "          [1,15,1,0,0],\n",
    "          [0,1,17,1,0],\n",
    "          [0,0,1,13,1],\n",
    "          [0,0,0,1,18]]\n",
    "\n",
    "K = 10000\n",
    "\n",
    "empty_time, empty_end, epsilon = start_simulation(K,n_init)"
   ]
  },
  {
   "cell_type": "markdown",
   "metadata": {},
   "source": [
    "####  Questions 5 & 6 <a name=\"question5\"></a> [$\\uparrow$](#top)"
   ]
  },
  {
   "cell_type": "code",
   "execution_count": 6,
   "metadata": {},
   "outputs": [
    {
     "name": "stdout",
     "output_type": "stream",
     "text": [
      "La station 0 est vide à 1.3 %.    Intervalle de confiance :  0.598 ; 2.002\n",
      "La station 1 est vide à 4.0 %.    Intervalle de confiance :  2.785 ; 5.215\n",
      "La station 2 est vide à 16.2 %.    Intervalle de confiance :  13.915 ; 18.485\n",
      "La station 3 est vide à 3.2 %.    Intervalle de confiance :  2.109 ; 4.291\n",
      "La station 4 est vide à 12.8 %.    Intervalle de confiance :  10.728 ; 14.872\n"
     ]
    }
   ],
   "source": [
    "for i in range(N):\n",
    "    print(\"La station\", i, \"est vide à\", str(round(empty_end[i][i]*100,2)), \"%.\\\n",
    "    Intervalle de confiance : \", round(100*(empty_end[i][i] - epsilon[i]),3), \";\", round(100*(empty_end[i][i] + epsilon[i]),3))\n"
   ]
  },
  {
   "cell_type": "markdown",
   "metadata": {},
   "source": [
    "#### Question 7 <a name=\"question7\"></a> [$\\uparrow$](#top)"
   ]
  },
  {
   "cell_type": "code",
   "execution_count": 7,
   "metadata": {},
   "outputs": [
    {
     "name": "stdout",
     "output_type": "stream",
     "text": [
      "La station 0 est vide à 0.0 %.    Intervalle de confiance :  0.0 ; 0.0\n",
      "La station 1 est vide à 7.5 %.    Intervalle de confiance :  5.867 ; 9.133\n",
      "La station 2 est vide à 16.5 %.    Intervalle de confiance :  14.198 ; 18.802\n",
      "La station 3 est vide à 8.4 %.    Intervalle de confiance :  6.68 ; 10.12\n",
      "La station 4 est vide à 14.8 %.    Intervalle de confiance :  12.598 ; 17.002\n"
     ]
    }
   ],
   "source": [
    "n_init = [[91,0,0,0,0],\n",
    "          [0,0,0,0,0],\n",
    "          [0,0,0,0,0],\n",
    "          [0,0,0,0,0],\n",
    "          [0,0,0,0,0]]\n",
    "\n",
    "_, empty_end, epsilon = start_simulation(K,n_init)\n",
    "\n",
    "for i in range(N):\n",
    "    print(\"La station\", i, \"est vide à\", str(round(empty_end[i][i]*100,2)), \"%.\\\n",
    "    Intervalle de confiance : \", round(100*(empty_end[i][i] - epsilon[i]),3), \";\", round(100*(empty_end[i][i] + epsilon[i]),3))"
   ]
  },
  {
   "cell_type": "code",
   "execution_count": 8,
   "metadata": {},
   "outputs": [
    {
     "name": "stdout",
     "output_type": "stream",
     "text": [
      "La station 0 est vide à 1.4 %.    Intervalle de confiance :  0.671 ; 2.129\n",
      "La station 1 est vide à 3.7 %.    Intervalle de confiance :  2.529 ; 4.871\n",
      "La station 2 est vide à 16.6 %.    Intervalle de confiance :  14.293 ; 18.907\n",
      "La station 3 est vide à 3.2 %.    Intervalle de confiance :  2.109 ; 4.291\n",
      "La station 4 est vide à 11.8 %.    Intervalle de confiance :  9.799 ; 13.801\n"
     ]
    }
   ],
   "source": [
    "n_init = [[14,1,1,1,1],\n",
    "          [1,14,1,1,1],\n",
    "          [1,1,14,1,1],\n",
    "          [1,1,1,14,1],\n",
    "          [1,1,1,1,15]]\n",
    "\n",
    "_, empty_end, epsilon = start_simulation(K,n_init)\n",
    "\n",
    "for i in range(N):\n",
    "    print(\"La station\", i, \"est vide à\", round(empty_end[i][i]*100,2), \"%.\\\n",
    "    Intervalle de confiance : \", round(100*(empty_end[i][i] - epsilon[i]),3), \";\", round(100*(empty_end[i][i] + epsilon[i]),3))"
   ]
  },
  {
   "cell_type": "markdown",
   "metadata": {},
   "source": [
    "####  Question 8 <a name=\"question8\"></a> [$\\uparrow$](#top)\n"
   ]
  },
  {
   "cell_type": "code",
   "execution_count": 9,
   "metadata": {},
   "outputs": [
    {
     "name": "stdout",
     "output_type": "stream",
     "text": [
      "La station 0 est vide durant 0.74 % de la simulation.\n",
      "La station 1 est vide durant 2.64 % de la simulation.\n",
      "La station 2 est vide durant 12.75 % de la simulation.\n",
      "La station 3 est vide durant 2.45 % de la simulation.\n",
      "La station 4 est vide durant 7.61 % de la simulation.\n"
     ]
    }
   ],
   "source": [
    "for i in range(N):\n",
    "    print(\"La station\", i, \"est vide durant\", round(empty_time[i][i]*100,2), \"% de la simulation.\")"
   ]
  },
  {
   "cell_type": "markdown",
   "metadata": {},
   "source": [
    "####  Question 9 <a name=\"question9\"></a> [$\\uparrow$](#top)\n",
    "\n",
    "L'observation de la configuration finale de la question 5 s'approche de la probabilité stationnaire par le théorème du comportement asymptotique.\n",
    "Le pourcentage de temps de la question 8 s'approche de la probabilité stationnaire par le théorème ergodique.\n",
    "Avec un nombre suffisamment grand de simulations, sur un horizon de temps suffisamment grand, les deux mesures sont identiques.\n",
    "\n",
    "\n",
    "#### Question 10 <a name=\"question10\"></a>[$\\uparrow$](#top)\n",
    "\n"
   ]
  },
  {
   "cell_type": "markdown",
   "metadata": {},
   "source": [
    "### Calcul théorique <a name=\"theorie\"></a> [$\\uparrow$](#top)"
   ]
  },
  {
   "cell_type": "markdown",
   "metadata": {},
   "source": [
    "#### Question 11 <a name=\"question11\"></a>[$\\uparrow$](#top)\n",
    "\n",
    "Les équations de trafic donnent :\n",
    "* pour toute station i : $\\alpha_i \\lambda_i = \\sum\\limits_{j \\neq i}{\\alpha_{t_{ji}}\\lambda_{t_{ji}i}}$\n",
    "* pour toute transition ij : $\\alpha_{t_{ij}}\\lambda_{t_{ij}} = \\alpha_i \\lambda_{t_{ij}}$\n",
    "\n",
    "#### Question 12 <a name=\"question12\"></a>[$\\uparrow$](#top)\n",
    "\n",
    "S'il n'y a qu'un seul vélo, la taille de l'espace d'états est $n^2$, car il y a $n$ stations et $n(n-1)$ transitions possibles entre toutes les stations.\n",
    "\n",
    "#### Question 13 <a name=\"question12\"></a>[$\\uparrow$](#top)\n",
    "\n",
    "Dans le cas où il n'y a qu'un seul vélo, la probabilité que le vélib soit dans la station i est égale à $\\alpha_i$.\n",
    "\n",
    "La probabilité que la station i soit vide est donc égale à $\\pi_i = 1 - \\alpha_i$.\n",
    "\n",
    "Il vient également la probabilité que toutes les stations soient vides : $\\pi = 1 - \\sum\\limits_{i=1}^{n}{\\alpha_i}$."
   ]
  },
  {
   "cell_type": "code",
   "execution_count": 52,
   "metadata": {},
   "outputs": [
    {
     "name": "stdout",
     "output_type": "stream",
     "text": [
      "La probabilité que la station 0 soit vide est de 83.22 %\n",
      "La probabilité que la station 1 soit vide est de 83.89 %\n",
      "La probabilité que la station 2 soit vide est de 85.8 %\n",
      "La probabilité que la station 3 soit vide est de 83.85 %\n",
      "La probabilité que la station 4 soit vide est de 85.01 %\n",
      "La probabilité que toutes les stations soient vides est de 21.77 %\n"
     ]
    }
   ],
   "source": [
    "##construction des lambda_(t_ij j)\n",
    "lambdarr = []\n",
    "for i in range(N):\n",
    "    lambdarr.append([])\n",
    "    for j in range(N):\n",
    "        if i==j:\n",
    "            lambdarr[i].append(0)\n",
    "        else:\n",
    "            lambdarr[i].append(1/(tau[i][j]))\n",
    "            \n",
    "##construction des lamda_(i t_ij)\n",
    "            \n",
    "lambdep = []\n",
    "for i in range(N):\n",
    "    lambdep.append([])\n",
    "    for j in range(N) :\n",
    "        if i==j:\n",
    "            lambdep[i].append(0)\n",
    "        else:\n",
    "            lambdep[i].append(lambd_i[i]*p[i][j]/60)\n",
    "\n",
    "#matrice des contraintes de l'équation des alpha, tq M*alpha = (1, 0, 0...)\n",
    "M=[]\n",
    "\n",
    "# Normalisation\n",
    "M.append([1 for _ in range(N*N)])\n",
    "    \n",
    "#contraintes lambda_i * alpha_i - somme lambda_(t_ji i) *alpha_(t_ji) = 0\n",
    "for i in range(N):\n",
    "    M.append([])\n",
    "    for j in range(N*N):\n",
    "        if j==i:\n",
    "            M[i+1].append(lambd_i[i]/60)\n",
    "        elif (j-i-1)%4==0 and (j-i-1)//4>i+1:\n",
    "            k = int((j-i-1)//4)-1\n",
    "            M[i+1].append(-lambdarr[k][i])\n",
    "        elif (j-i)%4==0 and (j-i)//4<i+1 and j!=0 :\n",
    "            k = int((j-i)//4) - 1\n",
    "            M[i+1].append(-lambdarr[k][i])\n",
    "        else :\n",
    "            M[i+1].append(0)\n",
    "            \n",
    "#contraintes lambda_(it_ij) * alpha_i - lambda_(t_ij j)*alpha(t_ij) = 0\n",
    "for i in range (N):\n",
    "    for k in range (N):\n",
    "        if k!=i and k<i:\n",
    "            M.append([])\n",
    "            for j in range(N*N):\n",
    "                if j==i:\n",
    "                    M[N+1+k+i*(N-1)].append(lambdep[i][k])\n",
    "                elif j==N+k-1+i*(N-1)+1 :\n",
    "                    M[N+1+k+i*(N-1)].append(-lambdarr[i][k])\n",
    "                else :\n",
    "                    M[N+1+k+i*(N-1)].append(0)  \n",
    "        elif k!=i and k>i:\n",
    "            M.append([])\n",
    "            for j in range(N*N):\n",
    "                if j==i:\n",
    "                    M[N+k+i*(N-1)].append(lambdep[i][k])\n",
    "                elif j==N+k-1+i*(N-1) :\n",
    "                    M[N+k+i*(N-1)].append(-lambdarr[i][k])\n",
    "                else :\n",
    "                    M[N+k+i*(N-1)].append(0)  \n",
    "                \n",
    "A=np.ones((N*N,N*N))\n",
    "for i in range (1,N*N):\n",
    "    A[i]=M[i+1]\n",
    "    \n",
    "X=np.zeros((N*N,1))\n",
    "X[0]=1\n",
    "\n",
    "#alpha = M^-1 * X\n",
    "Ainv=np.linalg.inv(A)\n",
    "alpha=np.dot(Ainv,X)\n",
    "\n",
    "#proba Pi que le vélo ne soit pas dans une station\n",
    "Pi=0\n",
    "for i in range (N,N*N):\n",
    "    Pi=Pi+alpha[i]\n",
    "    \n",
    "for i in range(N):\n",
    "    print(\"La probabilité que la station\", i, \"soit vide est de\", round(100*(1-alpha[i][0]),2), \"%\")\n",
    "print(\"La probabilité que toutes les stations soient vides est de\",round(100*Pi[0],2), \"%\" )"
   ]
  },
  {
   "cell_type": "markdown",
   "metadata": {},
   "source": [
    "#### Question 14\n"
   ]
  },
  {
   "cell_type": "code",
   "execution_count": 55,
   "metadata": {},
   "outputs": [
    {
     "name": "stdout",
     "output_type": "stream",
     "text": [
      "La station 0 est vide durant 83.17 % de la simulation.\n",
      "La station 1 est vide durant 84.02 % de la simulation.\n",
      "La station 2 est vide durant 85.95 % de la simulation.\n",
      "La station 3 est vide durant 84.04 % de la simulation.\n",
      "La station 4 est vide durant 85.18 % de la simulation.\n",
      "Les stations sont toutes vides durant 22.36 % de la simulation\n"
     ]
    }
   ],
   "source": [
    "n_init = [[1,0,0,0,0],\n",
    "          [0,0,0,0,0],\n",
    "          [0,0,0,0,0],\n",
    "          [0,0,0,0,0],\n",
    "          [0,0,0,0,0]]\n",
    "\n",
    "empty_time, empty_end, epsilon = start_simulation(K,n_init)\n",
    "\n",
    "for i in range(N):\n",
    "    print(\"La station\", i, \"est vide durant\", round(empty_time[i][i]*100,2), \"% de la simulation.\")\n",
    "print(\"Les stations sont toutes vides durant\", round(100*((1-sum([1-empty_time[i][i] for i in range(N)]))),2), \"% de la simulation\" )"
   ]
  },
  {
   "cell_type": "markdown",
   "metadata": {},
   "source": [
    "Les résultats obtenus par simulation sont très proches des valeurs théoriques calculées à la question précédente."
   ]
  }
 ],
 "metadata": {
  "kernelspec": {
   "display_name": "Python 3",
   "language": "python",
   "name": "python3"
  },
  "language_info": {
   "codemirror_mode": {
    "name": "ipython",
    "version": 3
   },
   "file_extension": ".py",
   "mimetype": "text/x-python",
   "name": "python",
   "nbconvert_exporter": "python",
   "pygments_lexer": "ipython3",
   "version": "3.7.0"
  }
 },
 "nbformat": 4,
 "nbformat_minor": 2
}
