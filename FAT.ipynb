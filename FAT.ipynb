{
 "cells": [
  {
   "cell_type": "markdown",
   "metadata": {},
   "source": [
    "# FAT - Projet Vélib <a name=\"top\"></a>\n",
    "\n",
    "\n",
    "# Table of contents\n",
    "1. [Simulation](#introduction)\n",
    "2. [Calcul théorique](#theorie)"
   ]
  },
  {
   "cell_type": "markdown",
   "metadata": {},
   "source": [
    "### Simulation <a name=\"introduction\"></a> [$\\uparrow$](#top)\n",
    "\n",
    "Dans l'ensemble de cette section les matrices M de taille $NxN$ sont définies comme suit :\n",
    "* sur la diagonale, les valeurs associées aux stations ($M[i][i]$ correspond à la station $i$)\n",
    "* ailleurs, les valeurs associées aux transitions ($M[i][j]$ correspond à la transition $t_{ij}$, de $i$ vers $j$)"
   ]
  },
  {
   "cell_type": "code",
   "execution_count": 31,
   "metadata": {},
   "outputs": [],
   "source": [
    "import random\n",
    "import copy\n",
    "import math"
   ]
  },
  {
   "cell_type": "code",
   "execution_count": 9,
   "metadata": {},
   "outputs": [],
   "source": [
    "# Paramètres\n",
    "\n",
    "N = 5\n",
    "\n",
    "horizon = 150 * 60 * 60\n",
    "\n",
    "tau = [[0,3,5,7,7],\n",
    "      [2,0,2,5,5],\n",
    "      [4,2,0,3,3],\n",
    "      [8,6,4,0,2],\n",
    "      [7,7,5,2,0]]\n",
    "\n",
    "lambd_i = [2.8,3.7,5.5,3.5,4.6]\n",
    "\n",
    "lambd = []\n",
    "for i in range(N):\n",
    "    lambd.append([])\n",
    "    for j in range(N):\n",
    "        if i==j:\n",
    "            lambd[i].append(lambd_i[i] / 3600)\n",
    "        else:\n",
    "            lambd[i].append(1/(60*tau[i][j]))\n",
    "\n",
    "p = [[0,0.22,0.32,0.2,0.26],\n",
    "      [0.17,0,0.34,0.21,0.28],\n",
    "      [0.19,0.26,0,0.24,0.31],\n",
    "      [0.17,0.22,0.33,0,0.28],\n",
    "      [0.18,0.24,0.35,0.23,0]]\n"
   ]
  },
  {
   "cell_type": "code",
   "execution_count": 10,
   "metadata": {},
   "outputs": [],
   "source": [
    "# Lance une simulation avec les conditions initiales définies dans la fonction init() sur une période de temps \"horizon\"\n",
    "def simulation(n_init):\n",
    "    n = copy.deepcopy(n_init)\n",
    "    temps = 0\n",
    "    temps_vide = [0 for _ in range(N)]\n",
    "    temps_vide2 = [[0 for _ in range(N)] for _ in range(N)]\n",
    "    while temps < horizon:\n",
    "        sum_q = 0\n",
    "        for i in range(N):\n",
    "            for j in range(N):\n",
    "                if i == j:\n",
    "                    if n[i][i] > 0:\n",
    "                        sum_q += lambd[i][i]\n",
    "                else:\n",
    "                    sum_q += lambd[i][j] * n[i][j]\n",
    "        tirage = random.expovariate(sum_q)\n",
    "        temps += tirage\n",
    "        # Calcul des temps vides\n",
    "#        for i in range(N):\n",
    "#            if(n[i][i] == 0):\n",
    "#                temps_vide[i] += tirage\n",
    "        for i in range(N):\n",
    "            for j in range(N):\n",
    "                if(n[i][j] == 0):\n",
    "                    temps_vide2[i][j] += tirage\n",
    "\n",
    "        #\n",
    "        \n",
    "        \n",
    "        rand = random.random() * sum_q\n",
    "        s = 0\n",
    "        i = 0\n",
    "        j = 0\n",
    "        while 1 :\n",
    "            if i == j:\n",
    "                if n[i][i] > 0:\n",
    "                    s += lambd[i][i]\n",
    "            else:\n",
    "                s += lambd[i][j] * n[i][j]\n",
    "            if s >= rand :\n",
    "                break\n",
    "            if i == N-1:\n",
    "                i = 0\n",
    "                j += 1\n",
    "            else:\n",
    "                i += 1\n",
    "\n",
    "        if i == j: # Départ de i\n",
    "            s -= lambd[i][i]\n",
    "            # On détermine la station destination\n",
    "            j = 0\n",
    "            while 1 :\n",
    "                s += lambd[i][i] * p[i][j]\n",
    "                if s >= rand:\n",
    "                    break\n",
    "                j += 1\n",
    "            # On part de i vers j\n",
    "            n[i][i] -= 1\n",
    "            n[i][j] += 1\n",
    "        else: # Arrivée en j à partir de i\n",
    "            n[j][j] += 1\n",
    "            n[i][j] -= 1\n",
    "    return temps_vide2, n"
   ]
  },
  {
   "cell_type": "code",
   "execution_count": 24,
   "metadata": {},
   "outputs": [],
   "source": [
    "def start_simulation(K, n_init):\n",
    "    empty_time = [[0 for _ in range(N)] for _ in range(N)]\n",
    "    empty_end = [[0 for _ in range(N)] for _ in range(N)]\n",
    "    for _ in range(K):\n",
    "        res, n_end = simulation(n_init)\n",
    "        empty_time = [[empty_time[i][j] + res[i][j] for j in range(N)] for i in range(N)]\n",
    "        empty_end = [[empty_end[i][j] + (1 if n_end[i][j] == 0 else 0) for j in range(N)] for i in range(N)] \n",
    "    empty_time = [[empty_time[i][j]/(K*horizon) for j in range(N)] for i in range(N)]\n",
    "    empty_end = [[empty_end[i][j]/K for j in range(N)] for i in range(N)]\n",
    "    return empty_time, empty_end"
   ]
  },
  {
   "cell_type": "code",
   "execution_count": 38,
   "metadata": {},
   "outputs": [],
   "source": [
    "# Conditions initiales\n",
    "n_init = [[20,1,0,0,0],\n",
    "          [1,15,1,0,0],\n",
    "          [0,1,17,1,0],\n",
    "          [0,0,1,13,1],\n",
    "          [0,0,0,1,18]]\n",
    "\n",
    "K = 1000\n",
    "\n",
    "empty_time, empty_end = start_simulation(K,n_init)\n",
    "\n",
    "var = [(empty_end[i][i] - empty_end[i][i]**2)*K/(K-1) for i in range(N)]\n",
    "epsilon = [1.96 * var[i] / math.sqrt(K) for i in range(N)]"
   ]
  },
  {
   "cell_type": "code",
   "execution_count": 39,
   "metadata": {},
   "outputs": [
    {
     "name": "stdout",
     "output_type": "stream",
     "text": [
      "[0.009, 0.034, 0.145, 0.044, 0.09]\n",
      "[0.008927927927927928, 0.03287687687687688, 0.1240990990990991, 0.04210610610610611, 0.08198198198198199]\n",
      "[0.0005533587059463651, 0.0020377299403635412, 0.0076917418510708165, 0.002609763494441967, 0.005081295887095785]\n",
      "[0.008446641294053633, 0.03196227005963646, 0.13730825814892916, 0.04139023650555803, 0.08491870411290421]\n",
      "[0.009553358705946365, 0.03603772994036354, 0.15269174185107082, 0.046609763494441965, 0.09508129588709578]\n"
     ]
    }
   ],
   "source": [
    "print([empty_end[i][i] for i in range(N)])\n",
    "print(var)\n",
    "print(epsilon)\n",
    "print([empty_end[i][i] - epsilon[i] for i in range(N)])\n",
    "print([empty_end[i][i] + epsilon[i] for i in range(N)])\n"
   ]
  },
  {
   "cell_type": "code",
   "execution_count": null,
   "metadata": {},
   "outputs": [],
   "source": []
  },
  {
   "cell_type": "code",
   "execution_count": null,
   "metadata": {},
   "outputs": [],
   "source": []
  },
  {
   "cell_type": "code",
   "execution_count": null,
   "metadata": {},
   "outputs": [],
   "source": [
    "[[100-(100*m/horizon) for m in m2] for m2 in mean]"
   ]
  },
  {
   "cell_type": "code",
   "execution_count": null,
   "metadata": {},
   "outputs": [],
   "source": [
    "[100-(100*mean[i][i]/horizon) for i in range(N)]"
   ]
  },
  {
   "cell_type": "code",
   "execution_count": null,
   "metadata": {},
   "outputs": [],
   "source": [
    "[100-(100*mean[i][j]/horizon) for i in range(N) for j in range(N)]"
   ]
  },
  {
   "cell_type": "code",
   "execution_count": null,
   "metadata": {},
   "outputs": [],
   "source": [
    "titi = [100-(100*mean[i][i]/horizon) for i in range(N)]\n",
    "for i in range(N):\n",
    "    for j in range(N):\n",
    "        if(i!=j):\n",
    "            titi.append(100-(100*mean[i][j]/horizon))\n",
    "titi"
   ]
  },
  {
   "cell_type": "code",
   "execution_count": null,
   "metadata": {},
   "outputs": [],
   "source": [
    "100 - sum(titi[0:5])"
   ]
  },
  {
   "cell_type": "markdown",
   "metadata": {},
   "source": [
    "### Calcul théorique <a name=\"theorie\"></a> [$\\uparrow$](#top)"
   ]
  },
  {
   "cell_type": "code",
   "execution_count": null,
   "metadata": {},
   "outputs": [],
   "source": []
  }
 ],
 "metadata": {
  "kernelspec": {
   "display_name": "Python 3",
   "language": "python",
   "name": "python3"
  },
  "language_info": {
   "codemirror_mode": {
    "name": "ipython",
    "version": 3
   },
   "file_extension": ".py",
   "mimetype": "text/x-python",
   "name": "python",
   "nbconvert_exporter": "python",
   "pygments_lexer": "ipython3",
   "version": "3.7.0"
  }
 },
 "nbformat": 4,
 "nbformat_minor": 2
}
